{
 "cells": [
  {
   "cell_type": "code",
   "execution_count": 1,
   "id": "a8d1e4dd",
   "metadata": {},
   "outputs": [],
   "source": [
    "#importing needed libraries"
   ]
  },
  {
   "cell_type": "code",
   "execution_count": 2,
   "id": "e7923710",
   "metadata": {},
   "outputs": [],
   "source": [
    "import pandas as pd \n",
    "import numpy as np \n",
    "import matplotlib.pyplot as plt\n",
    "import seaborn as sns "
   ]
  },
  {
   "cell_type": "code",
   "execution_count": 3,
   "id": "aa35194a",
   "metadata": {},
   "outputs": [],
   "source": [
    "#reading data"
   ]
  },
  {
   "cell_type": "code",
   "execution_count": 4,
   "id": "656f2490",
   "metadata": {},
   "outputs": [],
   "source": [
    "data = pd.ExcelFile('datafiltered1.xlsx')\n",
    "dfmaths = pd.read_excel(data, 'Maths')\n",
    "dfscience = pd.read_excel(data, 'Science')\n",
    "dfliter = pd.read_excel(data, 'Liter')"
   ]
  },
  {
   "cell_type": "code",
   "execution_count": 5,
   "id": "8dac4b07",
   "metadata": {},
   "outputs": [
    {
     "data": {
      "text/html": [
       "<div>\n",
       "<style scoped>\n",
       "    .dataframe tbody tr th:only-of-type {\n",
       "        vertical-align: middle;\n",
       "    }\n",
       "\n",
       "    .dataframe tbody tr th {\n",
       "        vertical-align: top;\n",
       "    }\n",
       "\n",
       "    .dataframe thead th {\n",
       "        text-align: right;\n",
       "    }\n",
       "</style>\n",
       "<table border=\"1\" class=\"dataframe\">\n",
       "  <thead>\n",
       "    <tr style=\"text-align: right;\">\n",
       "      <th></th>\n",
       "      <th>Unnamed: 0</th>\n",
       "      <th>desk_no</th>\n",
       "      <th>school_name</th>\n",
       "      <th>City</th>\n",
       "      <th>Government</th>\n",
       "      <th>branch</th>\n",
       "      <th>Percentage</th>\n",
       "      <th>status</th>\n",
       "      <th>arabic</th>\n",
       "      <th>first_foreign_lang</th>\n",
       "      <th>second_foreign_lang</th>\n",
       "      <th>pure_mathematics</th>\n",
       "      <th>chemistry</th>\n",
       "      <th>applied_math</th>\n",
       "      <th>physics</th>\n",
       "      <th>total</th>\n",
       "      <th>religion</th>\n",
       "      <th>national_education</th>\n",
       "      <th>economics_statistics</th>\n",
       "      <th>gender</th>\n",
       "    </tr>\n",
       "  </thead>\n",
       "  <tbody>\n",
       "    <tr>\n",
       "      <th>0</th>\n",
       "      <td>4</td>\n",
       "      <td>105416</td>\n",
       "      <td>التحرير الرسمية لغات بنين</td>\n",
       "      <td>أكتوبر</td>\n",
       "      <td>الجيزة</td>\n",
       "      <td>علمي رياضة</td>\n",
       "      <td>51.46</td>\n",
       "      <td>دور ثاني</td>\n",
       "      <td>56.0</td>\n",
       "      <td>25.0</td>\n",
       "      <td>6.0</td>\n",
       "      <td>30.0</td>\n",
       "      <td>30.0</td>\n",
       "      <td>33.0</td>\n",
       "      <td>31.0</td>\n",
       "      <td>211.0</td>\n",
       "      <td>18.0</td>\n",
       "      <td>20.0</td>\n",
       "      <td>31.0</td>\n",
       "      <td>M</td>\n",
       "    </tr>\n",
       "    <tr>\n",
       "      <th>1</th>\n",
       "      <td>14</td>\n",
       "      <td>105434</td>\n",
       "      <td>الحرية خ لغات بنين</td>\n",
       "      <td>الدقى</td>\n",
       "      <td>الجيزة</td>\n",
       "      <td>علمي رياضة</td>\n",
       "      <td>57.32</td>\n",
       "      <td>ناجح</td>\n",
       "      <td>65.0</td>\n",
       "      <td>42.0</td>\n",
       "      <td>NaN</td>\n",
       "      <td>30.0</td>\n",
       "      <td>38.0</td>\n",
       "      <td>30.0</td>\n",
       "      <td>30.0</td>\n",
       "      <td>235.0</td>\n",
       "      <td>22.0</td>\n",
       "      <td>15.0</td>\n",
       "      <td>39.5</td>\n",
       "      <td>M</td>\n",
       "    </tr>\n",
       "    <tr>\n",
       "      <th>2</th>\n",
       "      <td>92</td>\n",
       "      <td>105518</td>\n",
       "      <td>نكلا ث م بنين</td>\n",
       "      <td>منشأة القناطر</td>\n",
       "      <td>الجيزة</td>\n",
       "      <td>علمي رياضة</td>\n",
       "      <td>33.90</td>\n",
       "      <td>راسب</td>\n",
       "      <td>15.5</td>\n",
       "      <td>25.0</td>\n",
       "      <td>20.0</td>\n",
       "      <td>14.5</td>\n",
       "      <td>17.0</td>\n",
       "      <td>17.0</td>\n",
       "      <td>30.0</td>\n",
       "      <td>139.0</td>\n",
       "      <td>15.0</td>\n",
       "      <td>16.5</td>\n",
       "      <td>29.0</td>\n",
       "      <td>M</td>\n",
       "    </tr>\n",
       "    <tr>\n",
       "      <th>3</th>\n",
       "      <td>117</td>\n",
       "      <td>105543</td>\n",
       "      <td>منف ث خ م بنين</td>\n",
       "      <td>البدرشين</td>\n",
       "      <td>الجيزة</td>\n",
       "      <td>علمي رياضة</td>\n",
       "      <td>24.88</td>\n",
       "      <td>راسب</td>\n",
       "      <td>31.0</td>\n",
       "      <td>25.0</td>\n",
       "      <td>5.0</td>\n",
       "      <td>6.0</td>\n",
       "      <td>16.0</td>\n",
       "      <td>5.0</td>\n",
       "      <td>14.0</td>\n",
       "      <td>102.0</td>\n",
       "      <td>13.0</td>\n",
       "      <td>14.0</td>\n",
       "      <td>3.0</td>\n",
       "      <td>M</td>\n",
       "    </tr>\n",
       "    <tr>\n",
       "      <th>4</th>\n",
       "      <td>130</td>\n",
       "      <td>105556</td>\n",
       "      <td>منازل لغات اكتوبر بنين</td>\n",
       "      <td>أكتوبر</td>\n",
       "      <td>الجيزة</td>\n",
       "      <td>علمي رياضة</td>\n",
       "      <td>64.02</td>\n",
       "      <td>ناجح</td>\n",
       "      <td>44.0</td>\n",
       "      <td>41.0</td>\n",
       "      <td>22.5</td>\n",
       "      <td>36.0</td>\n",
       "      <td>49.0</td>\n",
       "      <td>31.0</td>\n",
       "      <td>39.0</td>\n",
       "      <td>262.5</td>\n",
       "      <td>NaN</td>\n",
       "      <td>NaN</td>\n",
       "      <td>NaN</td>\n",
       "      <td>M</td>\n",
       "    </tr>\n",
       "    <tr>\n",
       "      <th>...</th>\n",
       "      <td>...</td>\n",
       "      <td>...</td>\n",
       "      <td>...</td>\n",
       "      <td>...</td>\n",
       "      <td>...</td>\n",
       "      <td>...</td>\n",
       "      <td>...</td>\n",
       "      <td>...</td>\n",
       "      <td>...</td>\n",
       "      <td>...</td>\n",
       "      <td>...</td>\n",
       "      <td>...</td>\n",
       "      <td>...</td>\n",
       "      <td>...</td>\n",
       "      <td>...</td>\n",
       "      <td>...</td>\n",
       "      <td>...</td>\n",
       "      <td>...</td>\n",
       "      <td>...</td>\n",
       "      <td>...</td>\n",
       "    </tr>\n",
       "    <tr>\n",
       "      <th>97597</th>\n",
       "      <td>682265</td>\n",
       "      <td>937214</td>\n",
       "      <td>منازل إدارة ساقلتة</td>\n",
       "      <td>ساقلتة</td>\n",
       "      <td>سوهاج</td>\n",
       "      <td>علمي رياضة</td>\n",
       "      <td>59.51</td>\n",
       "      <td>ناجح</td>\n",
       "      <td>40.0</td>\n",
       "      <td>42.0</td>\n",
       "      <td>20.0</td>\n",
       "      <td>45.0</td>\n",
       "      <td>30.0</td>\n",
       "      <td>32.0</td>\n",
       "      <td>35.0</td>\n",
       "      <td>244.0</td>\n",
       "      <td>NaN</td>\n",
       "      <td>NaN</td>\n",
       "      <td>NaN</td>\n",
       "      <td>M</td>\n",
       "    </tr>\n",
       "    <tr>\n",
       "      <th>97598</th>\n",
       "      <td>682305</td>\n",
       "      <td>937255</td>\n",
       "      <td>منازل إدارة ساقلتة</td>\n",
       "      <td>ساقلتة</td>\n",
       "      <td>سوهاج</td>\n",
       "      <td>علمي رياضة</td>\n",
       "      <td>49.27</td>\n",
       "      <td>دور ثاني</td>\n",
       "      <td>42.0</td>\n",
       "      <td>30.0</td>\n",
       "      <td>27.0</td>\n",
       "      <td>13.0</td>\n",
       "      <td>30.0</td>\n",
       "      <td>30.0</td>\n",
       "      <td>30.0</td>\n",
       "      <td>202.0</td>\n",
       "      <td>20.0</td>\n",
       "      <td>13.0</td>\n",
       "      <td>34.0</td>\n",
       "      <td>M</td>\n",
       "    </tr>\n",
       "    <tr>\n",
       "      <th>97599</th>\n",
       "      <td>682315</td>\n",
       "      <td>937305</td>\n",
       "      <td>منازل إدارة دار السلام</td>\n",
       "      <td>دار السلام</td>\n",
       "      <td>القاهرة</td>\n",
       "      <td>علمي رياضة</td>\n",
       "      <td>76.83</td>\n",
       "      <td>ناجح</td>\n",
       "      <td>40.0</td>\n",
       "      <td>50.0</td>\n",
       "      <td>38.0</td>\n",
       "      <td>43.0</td>\n",
       "      <td>47.0</td>\n",
       "      <td>50.0</td>\n",
       "      <td>47.0</td>\n",
       "      <td>315.0</td>\n",
       "      <td>NaN</td>\n",
       "      <td>NaN</td>\n",
       "      <td>NaN</td>\n",
       "      <td>M</td>\n",
       "    </tr>\n",
       "    <tr>\n",
       "      <th>97600</th>\n",
       "      <td>682324</td>\n",
       "      <td>937314</td>\n",
       "      <td>منازل إدارة دار السلام</td>\n",
       "      <td>دار السلام</td>\n",
       "      <td>القاهرة</td>\n",
       "      <td>علمي رياضة</td>\n",
       "      <td>79.02</td>\n",
       "      <td>ناجح</td>\n",
       "      <td>58.0</td>\n",
       "      <td>45.0</td>\n",
       "      <td>37.0</td>\n",
       "      <td>47.0</td>\n",
       "      <td>51.0</td>\n",
       "      <td>35.0</td>\n",
       "      <td>51.0</td>\n",
       "      <td>324.0</td>\n",
       "      <td>NaN</td>\n",
       "      <td>NaN</td>\n",
       "      <td>NaN</td>\n",
       "      <td>F</td>\n",
       "    </tr>\n",
       "    <tr>\n",
       "      <th>97601</th>\n",
       "      <td>682347</td>\n",
       "      <td>937412</td>\n",
       "      <td>منازل إدارة جهينة</td>\n",
       "      <td>جهينة</td>\n",
       "      <td>سوهاج</td>\n",
       "      <td>علمي رياضة</td>\n",
       "      <td>69.27</td>\n",
       "      <td>ناجح</td>\n",
       "      <td>46.0</td>\n",
       "      <td>47.0</td>\n",
       "      <td>25.0</td>\n",
       "      <td>41.0</td>\n",
       "      <td>41.0</td>\n",
       "      <td>45.0</td>\n",
       "      <td>39.0</td>\n",
       "      <td>284.0</td>\n",
       "      <td>NaN</td>\n",
       "      <td>NaN</td>\n",
       "      <td>NaN</td>\n",
       "      <td>M</td>\n",
       "    </tr>\n",
       "  </tbody>\n",
       "</table>\n",
       "<p>97602 rows × 20 columns</p>\n",
       "</div>"
      ],
      "text/plain": [
       "       Unnamed: 0  desk_no                school_name           City  \\\n",
       "0               4   105416  التحرير الرسمية لغات بنين         أكتوبر   \n",
       "1              14   105434         الحرية خ لغات بنين          الدقى   \n",
       "2              92   105518              نكلا ث م بنين  منشأة القناطر   \n",
       "3             117   105543             منف ث خ م بنين       البدرشين   \n",
       "4             130   105556     منازل لغات اكتوبر بنين         أكتوبر   \n",
       "...           ...      ...                        ...            ...   \n",
       "97597      682265   937214         منازل إدارة ساقلتة         ساقلتة   \n",
       "97598      682305   937255         منازل إدارة ساقلتة         ساقلتة   \n",
       "97599      682315   937305     منازل إدارة دار السلام     دار السلام   \n",
       "97600      682324   937314     منازل إدارة دار السلام     دار السلام   \n",
       "97601      682347   937412          منازل إدارة جهينة          جهينة   \n",
       "\n",
       "      Government      branch  Percentage    status  arabic  \\\n",
       "0         الجيزة  علمي رياضة       51.46  دور ثاني    56.0   \n",
       "1         الجيزة  علمي رياضة       57.32      ناجح    65.0   \n",
       "2         الجيزة  علمي رياضة       33.90      راسب    15.5   \n",
       "3         الجيزة  علمي رياضة       24.88      راسب    31.0   \n",
       "4         الجيزة  علمي رياضة       64.02      ناجح    44.0   \n",
       "...          ...         ...         ...       ...     ...   \n",
       "97597      سوهاج  علمي رياضة       59.51      ناجح    40.0   \n",
       "97598      سوهاج  علمي رياضة       49.27  دور ثاني    42.0   \n",
       "97599    القاهرة  علمي رياضة       76.83      ناجح    40.0   \n",
       "97600    القاهرة  علمي رياضة       79.02      ناجح    58.0   \n",
       "97601      سوهاج  علمي رياضة       69.27      ناجح    46.0   \n",
       "\n",
       "       first_foreign_lang  second_foreign_lang  pure_mathematics  chemistry  \\\n",
       "0                    25.0                  6.0              30.0       30.0   \n",
       "1                    42.0                  NaN              30.0       38.0   \n",
       "2                    25.0                 20.0              14.5       17.0   \n",
       "3                    25.0                  5.0               6.0       16.0   \n",
       "4                    41.0                 22.5              36.0       49.0   \n",
       "...                   ...                  ...               ...        ...   \n",
       "97597                42.0                 20.0              45.0       30.0   \n",
       "97598                30.0                 27.0              13.0       30.0   \n",
       "97599                50.0                 38.0              43.0       47.0   \n",
       "97600                45.0                 37.0              47.0       51.0   \n",
       "97601                47.0                 25.0              41.0       41.0   \n",
       "\n",
       "       applied_math  physics  total  religion  national_education  \\\n",
       "0              33.0     31.0  211.0      18.0                20.0   \n",
       "1              30.0     30.0  235.0      22.0                15.0   \n",
       "2              17.0     30.0  139.0      15.0                16.5   \n",
       "3               5.0     14.0  102.0      13.0                14.0   \n",
       "4              31.0     39.0  262.5       NaN                 NaN   \n",
       "...             ...      ...    ...       ...                 ...   \n",
       "97597          32.0     35.0  244.0       NaN                 NaN   \n",
       "97598          30.0     30.0  202.0      20.0                13.0   \n",
       "97599          50.0     47.0  315.0       NaN                 NaN   \n",
       "97600          35.0     51.0  324.0       NaN                 NaN   \n",
       "97601          45.0     39.0  284.0       NaN                 NaN   \n",
       "\n",
       "       economics_statistics gender  \n",
       "0                      31.0      M  \n",
       "1                      39.5      M  \n",
       "2                      29.0      M  \n",
       "3                       3.0      M  \n",
       "4                       NaN      M  \n",
       "...                     ...    ...  \n",
       "97597                   NaN      M  \n",
       "97598                  34.0      M  \n",
       "97599                   NaN      M  \n",
       "97600                   NaN      F  \n",
       "97601                   NaN      M  \n",
       "\n",
       "[97602 rows x 20 columns]"
      ]
     },
     "execution_count": 5,
     "metadata": {},
     "output_type": "execute_result"
    }
   ],
   "source": [
    "dfmaths"
   ]
  },
  {
   "cell_type": "code",
   "execution_count": 6,
   "id": "34ffe07e",
   "metadata": {},
   "outputs": [
    {
     "name": "stdout",
     "output_type": "stream",
     "text": [
      "<class 'pandas.core.frame.DataFrame'>\n",
      "RangeIndex: 97602 entries, 0 to 97601\n",
      "Data columns (total 20 columns):\n",
      " #   Column                Non-Null Count  Dtype  \n",
      "---  ------                --------------  -----  \n",
      " 0   Unnamed: 0            97602 non-null  int64  \n",
      " 1   desk_no               97602 non-null  int64  \n",
      " 2   school_name           97602 non-null  object \n",
      " 3   City                  97602 non-null  object \n",
      " 4   Government            97602 non-null  object \n",
      " 5   branch                97602 non-null  object \n",
      " 6   Percentage            97602 non-null  float64\n",
      " 7   status                97602 non-null  object \n",
      " 8   arabic                97090 non-null  float64\n",
      " 9   first_foreign_lang    96937 non-null  float64\n",
      " 10  second_foreign_lang   96866 non-null  float64\n",
      " 11  pure_mathematics      96729 non-null  float64\n",
      " 12  chemistry             96827 non-null  float64\n",
      " 13  applied_math          96805 non-null  float64\n",
      " 14  physics               96766 non-null  float64\n",
      " 15  total                 97602 non-null  float64\n",
      " 16  religion              87598 non-null  float64\n",
      " 17  national_education    87600 non-null  float64\n",
      " 18  economics_statistics  87512 non-null  float64\n",
      " 19  gender                97602 non-null  object \n",
      "dtypes: float64(12), int64(2), object(6)\n",
      "memory usage: 14.9+ MB\n"
     ]
    }
   ],
   "source": [
    "dfmaths.info()"
   ]
  },
  {
   "cell_type": "code",
   "execution_count": 7,
   "id": "71f2d789",
   "metadata": {},
   "outputs": [],
   "source": [
    "dfmaths['school_name']=pd.Categorical(dfmaths.school_name)\n",
    "dfmaths['City']=pd.Categorical(dfmaths.City)\n",
    "dfmaths['Government']=pd.Categorical(dfmaths.Government)\n",
    "dfmaths['branch']=pd.Categorical(dfmaths.branch)\n",
    "dfmaths['status']=pd.Categorical(dfmaths.status)\n",
    "dfmaths['gender']=pd.Categorical(dfmaths.gender)"
   ]
  },
  {
   "cell_type": "code",
   "execution_count": 15,
   "id": "22a16f08",
   "metadata": {},
   "outputs": [],
   "source": [
    "dfscience['school_name']=pd.Categorical(dfscience.school_name)\n",
    "dfscience['City']=pd.Categorical(dfscience.City)\n",
    "dfscience['Government']=pd.Categorical(dfscience.Government)\n",
    "dfscience['branch']=pd.Categorical(dfscience.branch)\n",
    "dfscience['status']=pd.Categorical(dfscience.status)\n",
    "dfscience['gender']=pd.Categorical(dfscience.gender)"
   ]
  },
  {
   "cell_type": "code",
   "execution_count": 16,
   "id": "36c7a9ca",
   "metadata": {},
   "outputs": [],
   "source": [
    "dfliter['school_name']=pd.Categorical(dfliter.school_name)\n",
    "dfliter['City']=pd.Categorical(dfliter.City)\n",
    "dfliter['Government']=pd.Categorical(dfliter.Government)\n",
    "dfliter['branch']=pd.Categorical(dfliter.branch)\n",
    "dfliter['status']=pd.Categorical(dfliter.status)\n",
    "dfliter['gender']=pd.Categorical(dfliter.gender)"
   ]
  },
  {
   "cell_type": "code",
   "execution_count": 8,
   "id": "e94c495a",
   "metadata": {},
   "outputs": [
    {
     "name": "stdout",
     "output_type": "stream",
     "text": [
      "<class 'pandas.core.frame.DataFrame'>\n",
      "RangeIndex: 97602 entries, 0 to 97601\n",
      "Data columns (total 20 columns):\n",
      " #   Column                Non-Null Count  Dtype   \n",
      "---  ------                --------------  -----   \n",
      " 0   Unnamed: 0            97602 non-null  int64   \n",
      " 1   desk_no               97602 non-null  int64   \n",
      " 2   school_name           97602 non-null  category\n",
      " 3   City                  97602 non-null  category\n",
      " 4   Government            97602 non-null  category\n",
      " 5   branch                97602 non-null  category\n",
      " 6   Percentage            97602 non-null  float64 \n",
      " 7   status                97602 non-null  category\n",
      " 8   arabic                97090 non-null  float64 \n",
      " 9   first_foreign_lang    96937 non-null  float64 \n",
      " 10  second_foreign_lang   96866 non-null  float64 \n",
      " 11  pure_mathematics      96729 non-null  float64 \n",
      " 12  chemistry             96827 non-null  float64 \n",
      " 13  applied_math          96805 non-null  float64 \n",
      " 14  physics               96766 non-null  float64 \n",
      " 15  total                 97602 non-null  float64 \n",
      " 16  religion              87598 non-null  float64 \n",
      " 17  national_education    87600 non-null  float64 \n",
      " 18  economics_statistics  87512 non-null  float64 \n",
      " 19  gender                97602 non-null  category\n",
      "dtypes: category(6), float64(12), int64(2)\n",
      "memory usage: 11.3 MB\n"
     ]
    }
   ],
   "source": [
    "dfmaths.info()"
   ]
  },
  {
   "cell_type": "code",
   "execution_count": 17,
   "id": "8a42792b",
   "metadata": {},
   "outputs": [
    {
     "name": "stdout",
     "output_type": "stream",
     "text": [
      "<class 'pandas.core.frame.DataFrame'>\n",
      "RangeIndex: 325599 entries, 0 to 325598\n",
      "Data columns (total 20 columns):\n",
      " #   Column                Non-Null Count   Dtype   \n",
      "---  ------                --------------   -----   \n",
      " 0   Unnamed: 0            325599 non-null  int64   \n",
      " 1   desk_no               325599 non-null  int64   \n",
      " 2   school_name           325599 non-null  category\n",
      " 3   City                  325599 non-null  category\n",
      " 4   Government            325599 non-null  category\n",
      " 5   branch                325599 non-null  category\n",
      " 6   Percentage            325599 non-null  float64 \n",
      " 7   status                325599 non-null  category\n",
      " 8   arabic                323112 non-null  float64 \n",
      " 9   first_foreign_lang    322078 non-null  float64 \n",
      " 10  second_foreign_lang   322488 non-null  float64 \n",
      " 11  chemistry             321526 non-null  float64 \n",
      " 12  biology               322435 non-null  float64 \n",
      " 13  geology               322776 non-null  float64 \n",
      " 14  physics               321122 non-null  float64 \n",
      " 15  total                 325599 non-null  float64 \n",
      " 16  religion              293564 non-null  float64 \n",
      " 17  national_education    293625 non-null  float64 \n",
      " 18  economics_statistics  293384 non-null  float64 \n",
      " 19  gender                325598 non-null  category\n",
      "dtypes: category(6), float64(12), int64(2)\n",
      "memory usage: 37.4 MB\n"
     ]
    }
   ],
   "source": [
    "dfscience.info()"
   ]
  },
  {
   "cell_type": "code",
   "execution_count": 18,
   "id": "5bc254cd",
   "metadata": {},
   "outputs": [
    {
     "name": "stdout",
     "output_type": "stream",
     "text": [
      "<class 'pandas.core.frame.DataFrame'>\n",
      "RangeIndex: 259147 entries, 0 to 259146\n",
      "Data columns (total 20 columns):\n",
      " #   Column                Non-Null Count   Dtype   \n",
      "---  ------                --------------   -----   \n",
      " 0   Unnamed: 0            259147 non-null  int64   \n",
      " 1   desk_no               259147 non-null  int64   \n",
      " 2   school_name           259147 non-null  category\n",
      " 3   City                  259147 non-null  category\n",
      " 4   Government            259147 non-null  category\n",
      " 5   branch                259147 non-null  category\n",
      " 6   Percentage            259147 non-null  float64 \n",
      " 7   status                259147 non-null  category\n",
      " 8   arabic                258354 non-null  float64 \n",
      " 9   first_foreign_lang    258224 non-null  float64 \n",
      " 10  second_foreign_lang   257304 non-null  float64 \n",
      " 11  history               258155 non-null  float64 \n",
      " 12  geography             258427 non-null  float64 \n",
      " 13  philosophy            258334 non-null  float64 \n",
      " 14  psychology            258297 non-null  float64 \n",
      " 15  total                 259147 non-null  float64 \n",
      " 16  religion              229386 non-null  float64 \n",
      " 17  national_education    229515 non-null  float64 \n",
      " 18  economics_statistics  229233 non-null  float64 \n",
      " 19  gender                259145 non-null  category\n",
      "dtypes: category(6), float64(12), int64(2)\n",
      "memory usage: 29.8 MB\n"
     ]
    }
   ],
   "source": [
    "dfliter.info()"
   ]
  },
  {
   "cell_type": "code",
   "execution_count": 19,
   "id": "4ba1612e",
   "metadata": {},
   "outputs": [
    {
     "data": {
      "text/html": [
       "<div>\n",
       "<style scoped>\n",
       "    .dataframe tbody tr th:only-of-type {\n",
       "        vertical-align: middle;\n",
       "    }\n",
       "\n",
       "    .dataframe tbody tr th {\n",
       "        vertical-align: top;\n",
       "    }\n",
       "\n",
       "    .dataframe thead th {\n",
       "        text-align: right;\n",
       "    }\n",
       "</style>\n",
       "<table border=\"1\" class=\"dataframe\">\n",
       "  <thead>\n",
       "    <tr style=\"text-align: right;\">\n",
       "      <th></th>\n",
       "      <th>Percentage</th>\n",
       "    </tr>\n",
       "  </thead>\n",
       "  <tbody>\n",
       "    <tr>\n",
       "      <th>count</th>\n",
       "      <td>97602.00</td>\n",
       "    </tr>\n",
       "    <tr>\n",
       "      <th>mean</th>\n",
       "      <td>66.19</td>\n",
       "    </tr>\n",
       "    <tr>\n",
       "      <th>std</th>\n",
       "      <td>15.52</td>\n",
       "    </tr>\n",
       "    <tr>\n",
       "      <th>min</th>\n",
       "      <td>0.00</td>\n",
       "    </tr>\n",
       "    <tr>\n",
       "      <th>25%</th>\n",
       "      <td>55.37</td>\n",
       "    </tr>\n",
       "    <tr>\n",
       "      <th>50%</th>\n",
       "      <td>66.59</td>\n",
       "    </tr>\n",
       "    <tr>\n",
       "      <th>75%</th>\n",
       "      <td>78.05</td>\n",
       "    </tr>\n",
       "    <tr>\n",
       "      <th>max</th>\n",
       "      <td>99.27</td>\n",
       "    </tr>\n",
       "  </tbody>\n",
       "</table>\n",
       "</div>"
      ],
      "text/plain": [
       "       Percentage\n",
       "count    97602.00\n",
       "mean        66.19\n",
       "std         15.52\n",
       "min          0.00\n",
       "25%         55.37\n",
       "50%         66.59\n",
       "75%         78.05\n",
       "max         99.27"
      ]
     },
     "execution_count": 19,
     "metadata": {},
     "output_type": "execute_result"
    }
   ],
   "source": [
    "dfmaths[['Percentage']].describe().round(2)"
   ]
  },
  {
   "cell_type": "code",
   "execution_count": 20,
   "id": "c56834c7",
   "metadata": {},
   "outputs": [
    {
     "data": {
      "text/html": [
       "<div>\n",
       "<style scoped>\n",
       "    .dataframe tbody tr th:only-of-type {\n",
       "        vertical-align: middle;\n",
       "    }\n",
       "\n",
       "    .dataframe tbody tr th {\n",
       "        vertical-align: top;\n",
       "    }\n",
       "\n",
       "    .dataframe thead th {\n",
       "        text-align: right;\n",
       "    }\n",
       "</style>\n",
       "<table border=\"1\" class=\"dataframe\">\n",
       "  <thead>\n",
       "    <tr style=\"text-align: right;\">\n",
       "      <th></th>\n",
       "      <th>Percentage</th>\n",
       "    </tr>\n",
       "  </thead>\n",
       "  <tbody>\n",
       "    <tr>\n",
       "      <th>count</th>\n",
       "      <td>325599.00</td>\n",
       "    </tr>\n",
       "    <tr>\n",
       "      <th>mean</th>\n",
       "      <td>65.75</td>\n",
       "    </tr>\n",
       "    <tr>\n",
       "      <th>std</th>\n",
       "      <td>15.94</td>\n",
       "    </tr>\n",
       "    <tr>\n",
       "      <th>min</th>\n",
       "      <td>0.00</td>\n",
       "    </tr>\n",
       "    <tr>\n",
       "      <th>25%</th>\n",
       "      <td>54.39</td>\n",
       "    </tr>\n",
       "    <tr>\n",
       "      <th>50%</th>\n",
       "      <td>66.34</td>\n",
       "    </tr>\n",
       "    <tr>\n",
       "      <th>75%</th>\n",
       "      <td>78.05</td>\n",
       "    </tr>\n",
       "    <tr>\n",
       "      <th>max</th>\n",
       "      <td>98.05</td>\n",
       "    </tr>\n",
       "  </tbody>\n",
       "</table>\n",
       "</div>"
      ],
      "text/plain": [
       "       Percentage\n",
       "count   325599.00\n",
       "mean        65.75\n",
       "std         15.94\n",
       "min          0.00\n",
       "25%         54.39\n",
       "50%         66.34\n",
       "75%         78.05\n",
       "max         98.05"
      ]
     },
     "execution_count": 20,
     "metadata": {},
     "output_type": "execute_result"
    }
   ],
   "source": [
    "dfscience[['Percentage']].describe().round(2)"
   ]
  },
  {
   "cell_type": "code",
   "execution_count": 21,
   "id": "42c4d13d",
   "metadata": {},
   "outputs": [
    {
     "data": {
      "text/html": [
       "<div>\n",
       "<style scoped>\n",
       "    .dataframe tbody tr th:only-of-type {\n",
       "        vertical-align: middle;\n",
       "    }\n",
       "\n",
       "    .dataframe tbody tr th {\n",
       "        vertical-align: top;\n",
       "    }\n",
       "\n",
       "    .dataframe thead th {\n",
       "        text-align: right;\n",
       "    }\n",
       "</style>\n",
       "<table border=\"1\" class=\"dataframe\">\n",
       "  <thead>\n",
       "    <tr style=\"text-align: right;\">\n",
       "      <th></th>\n",
       "      <th>Percentage</th>\n",
       "    </tr>\n",
       "  </thead>\n",
       "  <tbody>\n",
       "    <tr>\n",
       "      <th>count</th>\n",
       "      <td>259147.00</td>\n",
       "    </tr>\n",
       "    <tr>\n",
       "      <th>mean</th>\n",
       "      <td>58.71</td>\n",
       "    </tr>\n",
       "    <tr>\n",
       "      <th>std</th>\n",
       "      <td>11.88</td>\n",
       "    </tr>\n",
       "    <tr>\n",
       "      <th>min</th>\n",
       "      <td>0.00</td>\n",
       "    </tr>\n",
       "    <tr>\n",
       "      <th>25%</th>\n",
       "      <td>50.73</td>\n",
       "    </tr>\n",
       "    <tr>\n",
       "      <th>50%</th>\n",
       "      <td>58.78</td>\n",
       "    </tr>\n",
       "    <tr>\n",
       "      <th>75%</th>\n",
       "      <td>66.83</td>\n",
       "    </tr>\n",
       "    <tr>\n",
       "      <th>max</th>\n",
       "      <td>99.27</td>\n",
       "    </tr>\n",
       "  </tbody>\n",
       "</table>\n",
       "</div>"
      ],
      "text/plain": [
       "       Percentage\n",
       "count   259147.00\n",
       "mean        58.71\n",
       "std         11.88\n",
       "min          0.00\n",
       "25%         50.73\n",
       "50%         58.78\n",
       "75%         66.83\n",
       "max         99.27"
      ]
     },
     "execution_count": 21,
     "metadata": {},
     "output_type": "execute_result"
    }
   ],
   "source": [
    "dfliter[['Percentage']].describe().round(2)"
   ]
  },
  {
   "cell_type": "code",
   "execution_count": 22,
   "id": "48c708fd",
   "metadata": {},
   "outputs": [],
   "source": [
    "#by looking to these 3 tables we notice:\n",
    "# The Average of students in the maths section got overall higher grades than science and literature students \n",
    "# Science students are more than maths and literature students \n",
    "# Max in science is Less than maths and literature students \n",
    "# Only 25% in literature section achieved a grade higher than 66% while in maths and science the same 25% achieved a grade higher than 78% "
   ]
  },
  {
   "cell_type": "code",
   "execution_count": 23,
   "id": "c8516733",
   "metadata": {},
   "outputs": [
    {
     "data": {
      "text/html": [
       "<div>\n",
       "<style scoped>\n",
       "    .dataframe tbody tr th:only-of-type {\n",
       "        vertical-align: middle;\n",
       "    }\n",
       "\n",
       "    .dataframe tbody tr th {\n",
       "        vertical-align: top;\n",
       "    }\n",
       "\n",
       "    .dataframe thead th {\n",
       "        text-align: right;\n",
       "    }\n",
       "</style>\n",
       "<table border=\"1\" class=\"dataframe\">\n",
       "  <thead>\n",
       "    <tr style=\"text-align: right;\">\n",
       "      <th></th>\n",
       "      <th>school_name</th>\n",
       "      <th>City</th>\n",
       "      <th>Government</th>\n",
       "      <th>branch</th>\n",
       "      <th>status</th>\n",
       "      <th>gender</th>\n",
       "    </tr>\n",
       "  </thead>\n",
       "  <tbody>\n",
       "    <tr>\n",
       "      <th>count</th>\n",
       "      <td>97602</td>\n",
       "      <td>97602</td>\n",
       "      <td>97602</td>\n",
       "      <td>97602</td>\n",
       "      <td>97602</td>\n",
       "      <td>97602</td>\n",
       "    </tr>\n",
       "    <tr>\n",
       "      <th>unique</th>\n",
       "      <td>3921</td>\n",
       "      <td>283</td>\n",
       "      <td>27</td>\n",
       "      <td>1</td>\n",
       "      <td>3</td>\n",
       "      <td>2</td>\n",
       "    </tr>\n",
       "    <tr>\n",
       "      <th>top</th>\n",
       "      <td>السعيدية الثانوية العسكرية</td>\n",
       "      <td>المنتزه</td>\n",
       "      <td>القاهرة</td>\n",
       "      <td>علمي رياضة</td>\n",
       "      <td>ناجح</td>\n",
       "      <td>M</td>\n",
       "    </tr>\n",
       "    <tr>\n",
       "      <th>freq</th>\n",
       "      <td>885</td>\n",
       "      <td>3135</td>\n",
       "      <td>21034</td>\n",
       "      <td>97602</td>\n",
       "      <td>71730</td>\n",
       "      <td>70163</td>\n",
       "    </tr>\n",
       "  </tbody>\n",
       "</table>\n",
       "</div>"
      ],
      "text/plain": [
       "                       school_name     City Government      branch status  \\\n",
       "count                        97602    97602      97602       97602  97602   \n",
       "unique                        3921      283         27           1      3   \n",
       "top     السعيدية الثانوية العسكرية  المنتزه    القاهرة  علمي رياضة   ناجح   \n",
       "freq                           885     3135      21034       97602  71730   \n",
       "\n",
       "       gender  \n",
       "count   97602  \n",
       "unique      2  \n",
       "top         M  \n",
       "freq    70163  "
      ]
     },
     "execution_count": 23,
     "metadata": {},
     "output_type": "execute_result"
    }
   ],
   "source": [
    "dfmaths.describe(include=\"category\")"
   ]
  },
  {
   "cell_type": "code",
   "execution_count": 24,
   "id": "d5e5c999",
   "metadata": {},
   "outputs": [
    {
     "data": {
      "text/html": [
       "<div>\n",
       "<style scoped>\n",
       "    .dataframe tbody tr th:only-of-type {\n",
       "        vertical-align: middle;\n",
       "    }\n",
       "\n",
       "    .dataframe tbody tr th {\n",
       "        vertical-align: top;\n",
       "    }\n",
       "\n",
       "    .dataframe thead th {\n",
       "        text-align: right;\n",
       "    }\n",
       "</style>\n",
       "<table border=\"1\" class=\"dataframe\">\n",
       "  <thead>\n",
       "    <tr style=\"text-align: right;\">\n",
       "      <th></th>\n",
       "      <th>school_name</th>\n",
       "      <th>City</th>\n",
       "      <th>Government</th>\n",
       "      <th>branch</th>\n",
       "      <th>status</th>\n",
       "      <th>gender</th>\n",
       "    </tr>\n",
       "  </thead>\n",
       "  <tbody>\n",
       "    <tr>\n",
       "      <th>count</th>\n",
       "      <td>325599</td>\n",
       "      <td>325599</td>\n",
       "      <td>325599</td>\n",
       "      <td>325599</td>\n",
       "      <td>325599</td>\n",
       "      <td>325598</td>\n",
       "    </tr>\n",
       "    <tr>\n",
       "      <th>unique</th>\n",
       "      <td>4169</td>\n",
       "      <td>287</td>\n",
       "      <td>27</td>\n",
       "      <td>1</td>\n",
       "      <td>3</td>\n",
       "      <td>2</td>\n",
       "    </tr>\n",
       "    <tr>\n",
       "      <th>top</th>\n",
       "      <td>السعيدية الثانوية العسكرية</td>\n",
       "      <td>المنتزه</td>\n",
       "      <td>القاهرة</td>\n",
       "      <td>علمي علوم</td>\n",
       "      <td>ناجح</td>\n",
       "      <td>F</td>\n",
       "    </tr>\n",
       "    <tr>\n",
       "      <th>freq</th>\n",
       "      <td>912</td>\n",
       "      <td>5601</td>\n",
       "      <td>34247</td>\n",
       "      <td>325599</td>\n",
       "      <td>225806</td>\n",
       "      <td>205640</td>\n",
       "    </tr>\n",
       "  </tbody>\n",
       "</table>\n",
       "</div>"
      ],
      "text/plain": [
       "                       school_name     City Government     branch  status  \\\n",
       "count                       325599   325599     325599     325599  325599   \n",
       "unique                        4169      287         27          1       3   \n",
       "top     السعيدية الثانوية العسكرية  المنتزه    القاهرة  علمي علوم    ناجح   \n",
       "freq                           912     5601      34247     325599  225806   \n",
       "\n",
       "        gender  \n",
       "count   325598  \n",
       "unique       2  \n",
       "top          F  \n",
       "freq    205640  "
      ]
     },
     "execution_count": 24,
     "metadata": {},
     "output_type": "execute_result"
    }
   ],
   "source": [
    "dfscience.describe(include=\"category\")"
   ]
  },
  {
   "cell_type": "code",
   "execution_count": 25,
   "id": "498975e4",
   "metadata": {},
   "outputs": [
    {
     "data": {
      "text/html": [
       "<div>\n",
       "<style scoped>\n",
       "    .dataframe tbody tr th:only-of-type {\n",
       "        vertical-align: middle;\n",
       "    }\n",
       "\n",
       "    .dataframe tbody tr th {\n",
       "        vertical-align: top;\n",
       "    }\n",
       "\n",
       "    .dataframe thead th {\n",
       "        text-align: right;\n",
       "    }\n",
       "</style>\n",
       "<table border=\"1\" class=\"dataframe\">\n",
       "  <thead>\n",
       "    <tr style=\"text-align: right;\">\n",
       "      <th></th>\n",
       "      <th>school_name</th>\n",
       "      <th>City</th>\n",
       "      <th>Government</th>\n",
       "      <th>branch</th>\n",
       "      <th>status</th>\n",
       "      <th>gender</th>\n",
       "    </tr>\n",
       "  </thead>\n",
       "  <tbody>\n",
       "    <tr>\n",
       "      <th>count</th>\n",
       "      <td>259147</td>\n",
       "      <td>259147</td>\n",
       "      <td>259147</td>\n",
       "      <td>259147</td>\n",
       "      <td>259147</td>\n",
       "      <td>259145</td>\n",
       "    </tr>\n",
       "    <tr>\n",
       "      <th>unique</th>\n",
       "      <td>4182</td>\n",
       "      <td>287</td>\n",
       "      <td>27</td>\n",
       "      <td>1</td>\n",
       "      <td>3</td>\n",
       "      <td>2</td>\n",
       "    </tr>\n",
       "    <tr>\n",
       "      <th>top</th>\n",
       "      <td>منازل إدارة المنيا</td>\n",
       "      <td>المنتزه</td>\n",
       "      <td>القاهرة</td>\n",
       "      <td>أدبي</td>\n",
       "      <td>ناجح</td>\n",
       "      <td>F</td>\n",
       "    </tr>\n",
       "    <tr>\n",
       "      <th>freq</th>\n",
       "      <td>1242</td>\n",
       "      <td>6141</td>\n",
       "      <td>47165</td>\n",
       "      <td>259147</td>\n",
       "      <td>153409</td>\n",
       "      <td>144892</td>\n",
       "    </tr>\n",
       "  </tbody>\n",
       "</table>\n",
       "</div>"
      ],
      "text/plain": [
       "               school_name     City Government  branch  status  gender\n",
       "count               259147   259147     259147  259147  259147  259145\n",
       "unique                4182      287         27       1       3       2\n",
       "top     منازل إدارة المنيا  المنتزه    القاهرة    أدبي    ناجح       F\n",
       "freq                  1242     6141      47165  259147  153409  144892"
      ]
     },
     "execution_count": 25,
     "metadata": {},
     "output_type": "execute_result"
    }
   ],
   "source": [
    "dfliter.describe(include=\"category\")"
   ]
  },
  {
   "cell_type": "code",
   "execution_count": 28,
   "id": "5581c5ed",
   "metadata": {},
   "outputs": [
    {
     "data": {
      "text/plain": [
       "M    70163\n",
       "F    27439\n",
       "Name: gender, dtype: int64"
      ]
     },
     "execution_count": 28,
     "metadata": {},
     "output_type": "execute_result"
    }
   ],
   "source": [
    "dfmaths[\"gender\"].value_counts()"
   ]
  },
  {
   "cell_type": "code",
   "execution_count": 33,
   "id": "4e788507",
   "metadata": {},
   "outputs": [
    {
     "data": {
      "image/png": "[encoded data removed]",
      "text/plain": [
       "<Figure size 1000x1500 with 1 Axes>"
      ]
     },
     "metadata": {},
     "output_type": "display_data"
    }
   ],
   "source": [
    "plt.figure(figsize=(10,15))\n",
    "plt.pie(dfmaths[\"gender\"].value_counts(),labels=['Male','Female'],autopct='%1.0f%%')\n",
    "plt.title(\"Maths section Gender Distribution\")\n",
    "plt.show()"
   ]
  },
  {
   "cell_type": "code",
   "execution_count": 29,
   "id": "ce64025f",
   "metadata": {},
   "outputs": [
    {
     "data": {
      "text/plain": [
       "F    205640\n",
       "M    119958\n",
       "Name: gender, dtype: int64"
      ]
     },
     "execution_count": 29,
     "metadata": {},
     "output_type": "execute_result"
    }
   ],
   "source": [
    "dfscience[\"gender\"].value_counts()"
   ]
  },
  {
   "cell_type": "code",
   "execution_count": 35,
   "id": "ed50782e",
   "metadata": {},
   "outputs": [
    {
     "data": {
      "image/png": "[encoded data removed]",
      "text/plain": [
       "<Figure size 1000x1500 with 1 Axes>"
      ]
     },
     "metadata": {},
     "output_type": "display_data"
    }
   ],
   "source": [
    "plt.figure(figsize=(10,15))\n",
    "plt.pie(dfscience[\"gender\"].value_counts(),labels=['Female','Male'],autopct='%1.0f%%')\n",
    "plt.title(\"Science section Gender Distribution\")\n",
    "plt.show()"
   ]
  },
  {
   "cell_type": "code",
   "execution_count": 30,
   "id": "1e6a5e01",
   "metadata": {},
   "outputs": [
    {
     "data": {
      "text/plain": [
       "F    144892\n",
       "M    114253\n",
       "Name: gender, dtype: int64"
      ]
     },
     "execution_count": 30,
     "metadata": {},
     "output_type": "execute_result"
    }
   ],
   "source": [
    "dfliter[\"gender\"].value_counts()"
   ]
  },
  {
   "cell_type": "code",
   "execution_count": 37,
   "id": "91b312c6",
   "metadata": {},
   "outputs": [
    {
     "data": {
      "image/png": "[encoded data removed]",
      "text/plain": [
       "<Figure size 1000x1500 with 1 Axes>"
      ]
     },
     "metadata": {},
     "output_type": "display_data"
    }
   ],
   "source": [
    "plt.figure(figsize=(10,15))\n",
    "plt.pie(dfliter[\"gender\"].value_counts(),labels=['Female','Male'],autopct='%1.0f%%')\n",
    "plt.title(\"Literature section Gender Distribution\")\n",
    "plt.show()"
   ]
  },
  {
   "cell_type": "code",
   "execution_count": 38,
   "id": "1004a2e1",
   "metadata": {},
   "outputs": [],
   "source": [
    "#from that we get some insights which is the following:\n",
    "#  (1) More males tend to join the maths section scoring the highest gender percentage with 72% \n",
    "#  (2) Females tend to join science and literature more often "
   ]
  },
  {
   "cell_type": "code",
   "execution_count": null,
   "id": "cebebd3c",
   "metadata": {},
   "outputs": [],
   "source": [
    "#Dropping the null values"
   ]
  },
  {
   "cell_type": "code",
   "execution_count": 39,
   "id": "ac9a49ba",
   "metadata": {},
   "outputs": [
    {
     "data": {
      "text/plain": [
       "Unnamed: 0                  0\n",
       "desk_no                     0\n",
       "school_name                 0\n",
       "City                        0\n",
       "Government                  0\n",
       "branch                      0\n",
       "Percentage                  0\n",
       "status                      0\n",
       "arabic                    512\n",
       "first_foreign_lang        665\n",
       "second_foreign_lang       736\n",
       "pure_mathematics          873\n",
       "chemistry                 775\n",
       "applied_math              797\n",
       "physics                   836\n",
       "total                       0\n",
       "religion                10004\n",
       "national_education      10002\n",
       "economics_statistics    10090\n",
       "gender                      0\n",
       "dtype: int64"
      ]
     },
     "execution_count": 39,
     "metadata": {},
     "output_type": "execute_result"
    }
   ],
   "source": [
    "dfmaths.isna().sum()"
   ]
  },
  {
   "cell_type": "code",
   "execution_count": 40,
   "id": "fdd05360",
   "metadata": {},
   "outputs": [
    {
     "data": {
      "text/plain": [
       "Unnamed: 0                  0\n",
       "desk_no                     0\n",
       "school_name                 0\n",
       "City                        0\n",
       "Government                  0\n",
       "branch                      0\n",
       "Percentage                  0\n",
       "status                      0\n",
       "arabic                   2487\n",
       "first_foreign_lang       3521\n",
       "second_foreign_lang      3111\n",
       "chemistry                4073\n",
       "biology                  3164\n",
       "geology                  2823\n",
       "physics                  4477\n",
       "total                       0\n",
       "religion                32035\n",
       "national_education      31974\n",
       "economics_statistics    32215\n",
       "gender                      1\n",
       "dtype: int64"
      ]
     },
     "execution_count": 40,
     "metadata": {},
     "output_type": "execute_result"
    }
   ],
   "source": [
    "dfscience.isna().sum()"
   ]
  },
  {
   "cell_type": "code",
   "execution_count": 41,
   "id": "0566d548",
   "metadata": {},
   "outputs": [
    {
     "data": {
      "text/plain": [
       "Unnamed: 0                  0\n",
       "desk_no                     0\n",
       "school_name                 0\n",
       "City                        0\n",
       "Government                  0\n",
       "branch                      0\n",
       "Percentage                  0\n",
       "status                      0\n",
       "arabic                    793\n",
       "first_foreign_lang        923\n",
       "second_foreign_lang      1843\n",
       "history                   992\n",
       "geography                 720\n",
       "philosophy                813\n",
       "psychology                850\n",
       "total                       0\n",
       "religion                29761\n",
       "national_education      29632\n",
       "economics_statistics    29914\n",
       "gender                      2\n",
       "dtype: int64"
      ]
     },
     "execution_count": 41,
     "metadata": {},
     "output_type": "execute_result"
    }
   ],
   "source": [
    "dfliter.isna().sum()"
   ]
  },
  {
   "cell_type": "code",
   "execution_count": 49,
   "id": "2f1b57cc",
   "metadata": {},
   "outputs": [
    {
     "data": {
      "text/plain": [
       "Unnamed: 0              0\n",
       "desk_no                 0\n",
       "school_name             0\n",
       "City                    0\n",
       "Government              0\n",
       "branch                  0\n",
       "Percentage              0\n",
       "status                  0\n",
       "arabic                  0\n",
       "first_foreign_lang      0\n",
       "second_foreign_lang     0\n",
       "pure_mathematics        0\n",
       "chemistry               0\n",
       "applied_math            0\n",
       "physics                 0\n",
       "total                   0\n",
       "religion                0\n",
       "national_education      0\n",
       "economics_statistics    0\n",
       "gender                  0\n",
       "dtype: int64"
      ]
     },
     "execution_count": 49,
     "metadata": {},
     "output_type": "execute_result"
    }
   ],
   "source": [
    "dfmaths= dfmaths.fillna('0')\n",
    "dfmaths.isnull().sum()"
   ]
  },
  {
   "cell_type": "code",
   "execution_count": 94,
   "id": "bfd7aab0",
   "metadata": {},
   "outputs": [
    {
     "data": {
      "text/plain": [
       "Unnamed: 0              0\n",
       "desk_no                 0\n",
       "school_name             0\n",
       "City                    0\n",
       "Government              0\n",
       "branch                  0\n",
       "Percentage              0\n",
       "status                  0\n",
       "arabic                  0\n",
       "first_foreign_lang      0\n",
       "second_foreign_lang     0\n",
       "chemistry               0\n",
       "biology                 0\n",
       "geology                 0\n",
       "physics                 0\n",
       "total                   0\n",
       "religion                0\n",
       "national_education      0\n",
       "economics_statistics    0\n",
       "gender                  0\n",
       "dtype: int64"
      ]
     },
     "execution_count": 94,
     "metadata": {},
     "output_type": "execute_result"
    }
   ],
   "source": [
    "dfscience.isnull().sum()"
   ]
  },
  {
   "cell_type": "code",
   "execution_count": 92,
   "id": "46dbff4e",
   "metadata": {},
   "outputs": [],
   "source": [
    "#finding the NA value in gender column using excel and deleted it on pandas "
   ]
  },
  {
   "cell_type": "code",
   "execution_count": null,
   "id": "c087f268",
   "metadata": {},
   "outputs": [],
   "source": [
    "#Dropping the null values"
   ]
  },
  {
   "cell_type": "code",
   "execution_count": 95,
   "id": "ed0cf0ca",
   "metadata": {},
   "outputs": [
    {
     "data": {
      "text/plain": [
       "Unnamed: 0                  0\n",
       "desk_no                     0\n",
       "school_name                 0\n",
       "City                        0\n",
       "Government                  0\n",
       "branch                      0\n",
       "Percentage                  0\n",
       "status                      0\n",
       "arabic                    793\n",
       "first_foreign_lang        923\n",
       "second_foreign_lang      1843\n",
       "history                   992\n",
       "geography                 720\n",
       "philosophy                813\n",
       "psychology                850\n",
       "total                       0\n",
       "religion                29759\n",
       "national_education      29630\n",
       "economics_statistics    29912\n",
       "gender                      2\n",
       "dtype: int64"
      ]
     },
     "execution_count": 95,
     "metadata": {},
     "output_type": "execute_result"
    }
   ],
   "source": [
    "dfliter.isnull().sum()"
   ]
  },
  {
   "cell_type": "code",
   "execution_count": 96,
   "id": "5e779857",
   "metadata": {},
   "outputs": [
    {
     "name": "stdout",
     "output_type": "stream",
     "text": [
      "        Unnamed: 0  desk_no                             school_name      City  \\\n",
      "239294      623161   864755  منازل ابناؤنا فى الخارج إدارة دير مواس  دير مواس   \n",
      "\n",
      "       Government branch  Percentage status  arabic  first_foreign_lang  \\\n",
      "239294     المنيا   أدبي       44.15   راسب    21.0                38.0   \n",
      "\n",
      "        second_foreign_lang  history  geography  philosophy  psychology  \\\n",
      "239294                 15.0     31.0       30.0        31.0        15.0   \n",
      "\n",
      "        total  religion  national_education  economics_statistics gender  \n",
      "239294  181.0       NaN                 NaN                   NaN    NaN  \n"
     ]
    }
   ],
   "source": [
    "print(dfliter.loc[[239294]])"
   ]
  },
  {
   "cell_type": "code",
   "execution_count": 156,
   "id": "2c928b6a",
   "metadata": {},
   "outputs": [],
   "source": [
    "dfliter = dfliter.drop(dfliter.index[239294])"
   ]
  },
  {
   "cell_type": "code",
   "execution_count": null,
   "id": "9202815f",
   "metadata": {},
   "outputs": [],
   "source": [
    "#finding the NA value in gender column using excel and deleted it on pandas "
   ]
  },
  {
   "cell_type": "code",
   "execution_count": null,
   "id": "53db137e",
   "metadata": {},
   "outputs": [],
   "source": [
    "#Dropping the null values"
   ]
  },
  {
   "cell_type": "code",
   "execution_count": 196,
   "id": "3b212c56",
   "metadata": {},
   "outputs": [
    {
     "name": "stdout",
     "output_type": "stream",
     "text": [
      "        Unnamed: 0  desk_no                             school_name      City  \\\n",
      "239294      623161   864755  منازل ابناؤنا فى الخارج إدارة دير مواس  دير مواس   \n",
      "\n",
      "       Government branch  Percentage status  arabic  first_foreign_lang  \\\n",
      "239294     المنيا   أدبي       44.15   راسب    21.0                38.0   \n",
      "\n",
      "        second_foreign_lang  history  geography  philosophy  psychology  \\\n",
      "239294                 15.0     31.0       30.0        31.0        15.0   \n",
      "\n",
      "        total  religion  national_education  economics_statistics gender  \n",
      "239294  181.0       NaN                 NaN                   NaN    NaN  \n"
     ]
    }
   ],
   "source": [
    "print(dfliter.loc[[239286]])"
   ]
  },
  {
   "cell_type": "code",
   "execution_count": 198,
   "id": "fea37ece",
   "metadata": {},
   "outputs": [],
   "source": [
    "dfliter = dfliter.drop(dfliter.index[[239286]])"
   ]
  },
  {
   "cell_type": "code",
   "execution_count": 200,
   "id": "9be992bf",
   "metadata": {},
   "outputs": [
    {
     "data": {
      "text/plain": [
       "Unnamed: 0                  0\n",
       "desk_no                     0\n",
       "school_name                 0\n",
       "City                        0\n",
       "Government                  0\n",
       "branch                      0\n",
       "Percentage                  0\n",
       "status                      0\n",
       "arabic                    793\n",
       "first_foreign_lang        923\n",
       "second_foreign_lang      1843\n",
       "history                   992\n",
       "geography                 720\n",
       "philosophy                813\n",
       "psychology                850\n",
       "total                       0\n",
       "religion                29737\n",
       "national_education      29608\n",
       "economics_statistics    29890\n",
       "gender                      0\n",
       "dtype: int64"
      ]
     },
     "execution_count": 200,
     "metadata": {},
     "output_type": "execute_result"
    }
   ],
   "source": [
    "dfliter.isnull().sum()"
   ]
  },
  {
   "cell_type": "code",
   "execution_count": 201,
   "id": "d76ed2b6",
   "metadata": {},
   "outputs": [
    {
     "data": {
      "text/plain": [
       "Unnamed: 0              0\n",
       "desk_no                 0\n",
       "school_name             0\n",
       "City                    0\n",
       "Government              0\n",
       "branch                  0\n",
       "Percentage              0\n",
       "status                  0\n",
       "arabic                  0\n",
       "first_foreign_lang      0\n",
       "second_foreign_lang     0\n",
       "history                 0\n",
       "geography               0\n",
       "philosophy              0\n",
       "psychology              0\n",
       "total                   0\n",
       "religion                0\n",
       "national_education      0\n",
       "economics_statistics    0\n",
       "gender                  0\n",
       "dtype: int64"
      ]
     },
     "execution_count": 201,
     "metadata": {},
     "output_type": "execute_result"
    }
   ],
   "source": [
    "dfliter= dfliter.fillna('0')\n",
    "dfliter.isnull().sum()"
   ]
  },
  {
   "cell_type": "code",
   "execution_count": 202,
   "id": "a3a9362f",
   "metadata": {},
   "outputs": [],
   "source": [
    "dfmaths.to_csv('mathssection.csv')"
   ]
  },
  {
   "cell_type": "code",
   "execution_count": 203,
   "id": "f67377c1",
   "metadata": {},
   "outputs": [],
   "source": [
    "dfscience.to_csv('sciencesection.csv')"
   ]
  },
  {
   "cell_type": "code",
   "execution_count": 204,
   "id": "2d74a01d",
   "metadata": {},
   "outputs": [],
   "source": [
    "dfliter.to_csv('literaturesection.csv')"
   ]
  }
 ],
 "metadata": {
  "kernelspec": {
   "display_name": "Python 3 (ipykernel)",
   "language": "python",
   "name": "python3"
  },
  "language_info": {
   "codemirror_mode": {
    "name": "ipython",
    "version": 3
   },
   "file_extension": ".py",
   "mimetype": "text/x-python",
   "name": "python",
   "nbconvert_exporter": "python",
   "pygments_lexer": "ipython3",
   "version": "3.9.13"
  }
 },
 "nbformat": 4,
 "nbformat_minor": 5
}
